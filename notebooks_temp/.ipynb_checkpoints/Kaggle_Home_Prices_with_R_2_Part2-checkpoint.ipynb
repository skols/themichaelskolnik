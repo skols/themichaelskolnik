{
 "cells": [
  {
   "cell_type": "markdown",
   "metadata": {},
   "source": [
    "## *Learn Maching Learning* series on Kaggle in R\n",
    "\n",
    "This is my R code for the first sections 3 and 4 of the level 2 part of the *Learn Machine Learning* series on Kaggle. I've already done the Python one, which is on Kaggle located [here](https://www.kaggle.com/learn/machine-learning). The data used is from the [*Home Prices: Advanced Regression Techniques*](https://www.kaggle.com/c/house-prices-advanced-regression-techniques) competition.\n",
    "\n",
    "I had planned on doing all of level 2 but that was more difficult than I expected. One reason for that is the Python series told me what packages to use and gave me an outline of steps to follow. Since I'm doing this in R with no tutorial to follow, I had to research and decide which packages to use and steps to follow. That slowed me down but I definitely learned a lot. I also had problems with Jupyter and the R kernel, so I worked on this in RStudio while fixing those issues."
   ]
  },
  {
   "cell_type": "markdown",
   "metadata": {},
   "source": [
    "### Load and install packages and load the data\n",
    "I learned since the last time that I need to do an if-else statement, not just if, when checking for packages before loading them."
   ]
  },
  {
   "cell_type": "code",
   "execution_count": 11,
   "metadata": {},
   "outputs": [
    {
     "name": "stderr",
     "output_type": "stream",
     "text": [
      "Loading required package: xgboost\n",
      "Warning message:\n",
      "\"package 'xgboost' was built under R version 3.4.4\"\n",
      "Attaching package: 'xgboost'\n",
      "\n",
      "The following object is masked from 'package:dplyr':\n",
      "\n",
      "    slice\n",
      "\n"
     ]
    }
   ],
   "source": [
    "# Install and load packages\n",
    "if (!require(\"randomForest\")) {\n",
    "  install.packages(\"randomForest\", repos=\"http://cran.rstudio.com/\")\n",
    "  library(randomForest)\n",
    "} else {\n",
    "  library(randomForest)\n",
    "}\n",
    "\n",
    "if (!require(\"dplyr\")) {\n",
    "  install.packages(\"dplyr\", repos=\"http://cran.rstudio.com/\")\n",
    "  library(dplyr)\n",
    "} else {\n",
    "  library(dplyr)\n",
    "}\n",
    "\n",
    "if (!require(\"caTools\")) {\n",
    "  install.packages(\"caTools\", repos=\"http://cran.rstudio.com/\")\n",
    "  library(caTools)\n",
    "} else {\n",
    "  library(caTools)\n",
    "}\n",
    "\n",
    "if (!require(\"rpart\")) {\n",
    "  install.packages(\"rpart\", repos=\"http://cran.rstudio.com/\")\n",
    "  library(rpart)\n",
    "} else {\n",
    "  library(rpart)\n",
    "}\n",
    "\n",
    "if (!require(\"caret\")) {\n",
    "  install.packages(\"caret\", repos=\"http://cran.rstudio.com/\")\n",
    "  library(rpart)\n",
    "} else {\n",
    "  library(rpart)\n",
    "}\n",
    "\n",
    "if (!require(\"xgboost\")) {\n",
    "  install.packages(\"xgboost\", repos=\"http://cran.rstudio.com/\")\n",
    "  library(xgboost)\n",
    "} else {\n",
    "  library(xgboost)\n",
    "}\n",
    "\n",
    "# Save filepath to variable\n",
    "training_data_filepath <- \"C:/Development/Kaggle/House Prices - Advanced Regression Techniques/train.csv\"\n",
    "\n",
    "# Import data\n",
    "dataset <- read.csv(training_data_filepath)"
   ]
  },
  {
   "cell_type": "markdown",
   "metadata": {},
   "source": [
    "### XGBoost\n",
    "\n",
    "I'm going to use XGBoost on the data, which requires some upfront work."
   ]
  },
  {
   "cell_type": "code",
   "execution_count": 2,
   "metadata": {},
   "outputs": [
    {
     "name": "stdout",
     "output_type": "stream",
     "text": [
      "     |      Out-of-bag   |\n",
      "Tree |      MSE  %Var(y) |\n",
      " 300 | 8.683e+08    13.77 |\n",
      "     |      Out-of-bag   |\n",
      "Tree |      MSE  %Var(y) |\n",
      " 300 | 8.534e+08    13.53 |\n",
      "     |      Out-of-bag   |\n",
      "Tree |      MSE  %Var(y) |\n",
      " 300 | 8.517e+08    13.50 |\n",
      "     |      Out-of-bag   |\n",
      "Tree |      MSE  %Var(y) |\n",
      " 300 | 8.635e+08    13.69 |\n",
      "     |      Out-of-bag   |\n",
      "Tree |      MSE  %Var(y) |\n",
      " 300 | 8.504e+08    13.48 |\n"
     ]
    }
   ],
   "source": [
    "# Create the dataframe with only numeric predictors\n",
    "nums <- unlist(lapply(dataset, is.numeric))\n",
    "dataset_nums <- dataset[, nums]\n",
    "\n",
    "# Create the dataframe with only categorical predictors\n",
    "dataset_cat <- dataset[, !nums]\n",
    "\n",
    "# Use dummyVars from the caret package to perform one-hot encoding\n",
    "# on the categorical features\n",
    "dummies <- dummyVars( ~ ., data=dataset_cat)\n",
    "dataset_dummies <- as.data.frame(predict(dummies, newdata=dataset_cat))\n",
    "\n",
    "# Impute missing numeric data using rfImpute\n",
    "dataset_nums_impute <- rfImpute(SalePrice ~ ., dataset_nums)"
   ]
  },
  {
   "cell_type": "code",
   "execution_count": 3,
   "metadata": {},
   "outputs": [],
   "source": [
    "dataset_combined <- cbind(dataset_nums_impute, dataset_dummies)"
   ]
  },
  {
   "cell_type": "code",
   "execution_count": 4,
   "metadata": {},
   "outputs": [
    {
     "data": {
      "text/html": [
       "<table>\n",
       "<thead><tr><th scope=col>SalePrice</th><th scope=col>Id</th><th scope=col>MSSubClass</th><th scope=col>LotFrontage</th><th scope=col>LotArea</th><th scope=col>OverallQual</th><th scope=col>OverallCond</th><th scope=col>YearBuilt</th><th scope=col>YearRemodAdd</th><th scope=col>MasVnrArea</th><th scope=col>...</th><th scope=col>SaleType.CWD</th><th scope=col>SaleType.New</th><th scope=col>SaleType.Oth</th><th scope=col>SaleType.WD</th><th scope=col>SaleCondition.Abnorml</th><th scope=col>SaleCondition.AdjLand</th><th scope=col>SaleCondition.Alloca</th><th scope=col>SaleCondition.Family</th><th scope=col>SaleCondition.Normal</th><th scope=col>SaleCondition.Partial</th></tr></thead>\n",
       "<tbody>\n",
       "\t<tr><td>208500</td><td>1     </td><td>60    </td><td>65    </td><td> 8450 </td><td>7     </td><td>5     </td><td>2003  </td><td>2003  </td><td>196   </td><td>...   </td><td>0     </td><td>0     </td><td>0     </td><td>1     </td><td>0     </td><td>0     </td><td>0     </td><td>0     </td><td>1     </td><td>0     </td></tr>\n",
       "\t<tr><td>181500</td><td>2     </td><td>20    </td><td>80    </td><td> 9600 </td><td>6     </td><td>8     </td><td>1976  </td><td>1976  </td><td>  0   </td><td>...   </td><td>0     </td><td>0     </td><td>0     </td><td>1     </td><td>0     </td><td>0     </td><td>0     </td><td>0     </td><td>1     </td><td>0     </td></tr>\n",
       "\t<tr><td>223500</td><td>3     </td><td>60    </td><td>68    </td><td>11250 </td><td>7     </td><td>5     </td><td>2001  </td><td>2002  </td><td>162   </td><td>...   </td><td>0     </td><td>0     </td><td>0     </td><td>1     </td><td>0     </td><td>0     </td><td>0     </td><td>0     </td><td>1     </td><td>0     </td></tr>\n",
       "\t<tr><td>140000</td><td>4     </td><td>70    </td><td>60    </td><td> 9550 </td><td>7     </td><td>5     </td><td>1915  </td><td>1970  </td><td>  0   </td><td>...   </td><td>0     </td><td>0     </td><td>0     </td><td>1     </td><td>1     </td><td>0     </td><td>0     </td><td>0     </td><td>0     </td><td>0     </td></tr>\n",
       "\t<tr><td>250000</td><td>5     </td><td>60    </td><td>84    </td><td>14260 </td><td>8     </td><td>5     </td><td>2000  </td><td>2000  </td><td>350   </td><td>...   </td><td>0     </td><td>0     </td><td>0     </td><td>1     </td><td>0     </td><td>0     </td><td>0     </td><td>0     </td><td>1     </td><td>0     </td></tr>\n",
       "\t<tr><td>143000</td><td>6     </td><td>50    </td><td>85    </td><td>14115 </td><td>5     </td><td>5     </td><td>1993  </td><td>1995  </td><td>  0   </td><td>...   </td><td>0     </td><td>0     </td><td>0     </td><td>1     </td><td>0     </td><td>0     </td><td>0     </td><td>0     </td><td>1     </td><td>0     </td></tr>\n",
       "</tbody>\n",
       "</table>\n"
      ],
      "text/latex": [
       "\\begin{tabular}{r|llllllllllllllllllllllllllllllllllllllllllllllllllllllllllllllllllllllllllllllllllllllllllllllllllllllllllllllllllllllllllllllllllllllllllllllllllllllllllllllllllllllllllllllllllllllllllllllllllllllllllllllllllllllllllllllllllllllllllllllllllllllllllllllllllllllllllllllllllllllllllllllllll}\n",
       " SalePrice & Id & MSSubClass & LotFrontage & LotArea & OverallQual & OverallCond & YearBuilt & YearRemodAdd & MasVnrArea & ... & SaleType.CWD & SaleType.New & SaleType.Oth & SaleType.WD & SaleCondition.Abnorml & SaleCondition.AdjLand & SaleCondition.Alloca & SaleCondition.Family & SaleCondition.Normal & SaleCondition.Partial\\\\\n",
       "\\hline\n",
       "\t 208500 & 1      & 60     & 65     &  8450  & 7      & 5      & 2003   & 2003   & 196    & ...    & 0      & 0      & 0      & 1      & 0      & 0      & 0      & 0      & 1      & 0     \\\\\n",
       "\t 181500 & 2      & 20     & 80     &  9600  & 6      & 8      & 1976   & 1976   &   0    & ...    & 0      & 0      & 0      & 1      & 0      & 0      & 0      & 0      & 1      & 0     \\\\\n",
       "\t 223500 & 3      & 60     & 68     & 11250  & 7      & 5      & 2001   & 2002   & 162    & ...    & 0      & 0      & 0      & 1      & 0      & 0      & 0      & 0      & 1      & 0     \\\\\n",
       "\t 140000 & 4      & 70     & 60     &  9550  & 7      & 5      & 1915   & 1970   &   0    & ...    & 0      & 0      & 0      & 1      & 1      & 0      & 0      & 0      & 0      & 0     \\\\\n",
       "\t 250000 & 5      & 60     & 84     & 14260  & 8      & 5      & 2000   & 2000   & 350    & ...    & 0      & 0      & 0      & 1      & 0      & 0      & 0      & 0      & 1      & 0     \\\\\n",
       "\t 143000 & 6      & 50     & 85     & 14115  & 5      & 5      & 1993   & 1995   &   0    & ...    & 0      & 0      & 0      & 1      & 0      & 0      & 0      & 0      & 1      & 0     \\\\\n",
       "\\end{tabular}\n"
      ],
      "text/markdown": [
       "\n",
       "SalePrice | Id | MSSubClass | LotFrontage | LotArea | OverallQual | OverallCond | YearBuilt | YearRemodAdd | MasVnrArea | ... | SaleType.CWD | SaleType.New | SaleType.Oth | SaleType.WD | SaleCondition.Abnorml | SaleCondition.AdjLand | SaleCondition.Alloca | SaleCondition.Family | SaleCondition.Normal | SaleCondition.Partial | \n",
       "|---|---|---|---|---|---|\n",
       "| 208500 | 1      | 60     | 65     |  8450  | 7      | 5      | 2003   | 2003   | 196    | ...    | 0      | 0      | 0      | 1      | 0      | 0      | 0      | 0      | 1      | 0      | \n",
       "| 181500 | 2      | 20     | 80     |  9600  | 6      | 8      | 1976   | 1976   |   0    | ...    | 0      | 0      | 0      | 1      | 0      | 0      | 0      | 0      | 1      | 0      | \n",
       "| 223500 | 3      | 60     | 68     | 11250  | 7      | 5      | 2001   | 2002   | 162    | ...    | 0      | 0      | 0      | 1      | 0      | 0      | 0      | 0      | 1      | 0      | \n",
       "| 140000 | 4      | 70     | 60     |  9550  | 7      | 5      | 1915   | 1970   |   0    | ...    | 0      | 0      | 0      | 1      | 1      | 0      | 0      | 0      | 0      | 0      | \n",
       "| 250000 | 5      | 60     | 84     | 14260  | 8      | 5      | 2000   | 2000   | 350    | ...    | 0      | 0      | 0      | 1      | 0      | 0      | 0      | 0      | 1      | 0      | \n",
       "| 143000 | 6      | 50     | 85     | 14115  | 5      | 5      | 1993   | 1995   |   0    | ...    | 0      | 0      | 0      | 1      | 0      | 0      | 0      | 0      | 1      | 0      | \n",
       "\n",
       "\n"
      ],
      "text/plain": [
       "  SalePrice Id MSSubClass LotFrontage LotArea OverallQual OverallCond YearBuilt\n",
       "1 208500    1  60         65           8450   7           5           2003     \n",
       "2 181500    2  20         80           9600   6           8           1976     \n",
       "3 223500    3  60         68          11250   7           5           2001     \n",
       "4 140000    4  70         60           9550   7           5           1915     \n",
       "5 250000    5  60         84          14260   8           5           2000     \n",
       "6 143000    6  50         85          14115   5           5           1993     \n",
       "  YearRemodAdd MasVnrArea ... SaleType.CWD SaleType.New SaleType.Oth\n",
       "1 2003         196        ... 0            0            0           \n",
       "2 1976           0        ... 0            0            0           \n",
       "3 2002         162        ... 0            0            0           \n",
       "4 1970           0        ... 0            0            0           \n",
       "5 2000         350        ... 0            0            0           \n",
       "6 1995           0        ... 0            0            0           \n",
       "  SaleType.WD SaleCondition.Abnorml SaleCondition.AdjLand SaleCondition.Alloca\n",
       "1 1           0                     0                     0                   \n",
       "2 1           0                     0                     0                   \n",
       "3 1           0                     0                     0                   \n",
       "4 1           1                     0                     0                   \n",
       "5 1           0                     0                     0                   \n",
       "6 1           0                     0                     0                   \n",
       "  SaleCondition.Family SaleCondition.Normal SaleCondition.Partial\n",
       "1 0                    1                    0                    \n",
       "2 0                    1                    0                    \n",
       "3 0                    1                    0                    \n",
       "4 0                    0                    0                    \n",
       "5 0                    1                    0                    \n",
       "6 0                    1                    0                    "
      ]
     },
     "metadata": {},
     "output_type": "display_data"
    }
   ],
   "source": [
    "head(dataset_combined)"
   ]
  },
  {
   "cell_type": "markdown",
   "metadata": {},
   "source": [
    "#### Split the data set into training and test\n",
    "\n",
    "This is simliar to before, using dataset_combined instead of dataset."
   ]
  },
  {
   "cell_type": "code",
   "execution_count": 5,
   "metadata": {},
   "outputs": [],
   "source": [
    "# Split data into training and validation data, for both predictors and target.\n",
    "set.seed(42)\n",
    "split <- sample.split(dataset_combined, SplitRatio=0.7)  # for training data\n",
    "training_set <- subset(dataset_combined, split==TRUE)\n",
    "test_set <- subset(dataset_combined, split==FALSE)"
   ]
  },
  {
   "cell_type": "markdown",
   "metadata": {},
   "source": [
    "To show the number of unique values in each field:\n",
    "\n",
    "    sapply(training_set_cat, function(x) {length(unique(x))})"
   ]
  },
  {
   "cell_type": "markdown",
   "metadata": {},
   "source": [
    "To show the actual values, you can run the following:\n",
    "\n",
    "    apply(training_set_cat, 2, function(x) {unique(x)})"
   ]
  },
  {
   "cell_type": "code",
   "execution_count": 7,
   "metadata": {},
   "outputs": [],
   "source": [
    "# Create X and y from the training and test sets\n",
    "X_train <- training_set %>%\n",
    "    select(-c(Id, SalePrice))\n",
    "X_test <- test_set %>%\n",
    "    select(-c(Id, SalePrice))\n",
    "y_train <- training_set$SalePrice\n",
    "y_test <- test_set$SalePrice"
   ]
  },
  {
   "cell_type": "code",
   "execution_count": 32,
   "metadata": {},
   "outputs": [],
   "source": [
    "# Create the XGBoost model and run\n",
    "xgb <- xgboost(data.matrix(X_train), y_train, nrounds=25, verbose=0)"
   ]
  },
  {
   "cell_type": "code",
   "execution_count": 27,
   "metadata": {},
   "outputs": [],
   "source": [
    "# Predict values\n",
    "y_pred <- predict(xgb, data.matrix(X_test))"
   ]
  },
  {
   "cell_type": "code",
   "execution_count": 28,
   "metadata": {},
   "outputs": [
    {
     "data": {
      "text/html": [
       "19554.7208855353"
      ],
      "text/latex": [
       "19554.7208855353"
      ],
      "text/markdown": [
       "19554.7208855353"
      ],
      "text/plain": [
       "[1] 19554.72"
      ]
     },
     "metadata": {},
     "output_type": "display_data"
    }
   ],
   "source": [
    "mae <- function(error)\n",
    "{\n",
    "  mean(abs(error))\n",
    "}\n",
    "\n",
    "error <- y_pred - y_test\n",
    "\n",
    "mae(error)"
   ]
  },
  {
   "cell_type": "code",
   "execution_count": 31,
   "metadata": {},
   "outputs": [
    {
     "name": "stdout",
     "output_type": "stream",
     "text": [
      "[1] \"nround of 1 has an MAE of 136694.404586062\"\n",
      "[1] \"nround of 5 has an MAE of 39075.4283438924\"\n",
      "[1] \"nround of 10 has an MAE of 21147.2548049544\"\n",
      "[1] \"nround of 30 has an MAE of 19529.0262136959\"\n",
      "[1] \"nround of 50 has an MAE of 19375.0769148633\"\n",
      "[1] \"nround of 100 has an MAE of 19388.9438621156\"\n",
      "[1] \"nround of 500 has an MAE of 19361.7373202591\"\n",
      "[1] \"nround of 1000 has an MAE of 19361.7657940632\"\n",
      "[1] \"nround of 5000 has an MAE of 19362.0505321042\"\n"
     ]
    }
   ],
   "source": [
    "# Create a function to get the MAE of XGBoost nround values\n",
    "getMae_xgb <- function(X_train, y_train, X_test, y_test, n) {\n",
    "  set.seed(42)\n",
    "  xgb <- xgboost(data.matrix(X_train), y_train, nrounds=n, verbose=0)\n",
    "  y_pred <- predict(xgb, data.matrix(X_test))\n",
    "  error <- (y_pred - y_test)\n",
    "  print(paste(\"nround of \", n, \" has an MAE of \", mae(error), sep=\"\"))\n",
    "}\n",
    "\n",
    "# Loop through multiple nround values\n",
    "nrounds = c(1, 5, 10, 30, 50, 100, 500, 1000, 5000)\n",
    "\n",
    "for (i in nrounds) {\n",
    "  getMae_xgb(X_train, y_train, X_test, y_test, i)\n",
    "}"
   ]
  },
  {
   "cell_type": "markdown",
   "metadata": {},
   "source": [
    "nround of 500 has the lowest MAE. There are other parameters I can tune and may try at a later date."
   ]
  },
  {
   "cell_type": "markdown",
   "metadata": {},
   "source": [
    "### Next steps\n",
    "\n",
    "I'm going to work on the next few sections in R but I'm not sure how some of it will translate to R. I know I can do XGBoost but I'm not entirely sure about Partial Dependence Plots. I can also do Cross Validation and probably Data Leakage, but I'm unsure about Pipelines. I know I can do pipelines with %>% and I think I can do similar to pipelines in Python with that. I'll have to play around with it.\n",
    "\n",
    "Before doing all that I think I'm going to do a post on how I set up my R environment. I like what I have set up now and would like to share it."
   ]
  }
 ],
 "metadata": {
  "front-matter": {
   "date": "2018-05-18",
   "slug": "home-prices-r3",
   "subtitle": "",
   "tags": [
    "R",
    "machine learning"
   ],
   "title": "My R code from sections 3 and 4 of the Level 2 exercises of Kaggle's Learn Machine Learning series"
  },
  "hugo-jupyter": {
   "render-to": "content/post/2018/05/20"
  },
  "kernelspec": {
   "display_name": "R",
   "language": "R",
   "name": "ir"
  },
  "language_info": {
   "codemirror_mode": "r",
   "file_extension": ".r",
   "mimetype": "text/x-r-source",
   "name": "R",
   "pygments_lexer": "r",
   "version": "3.4.3"
  }
 },
 "nbformat": 4,
 "nbformat_minor": 2
}
