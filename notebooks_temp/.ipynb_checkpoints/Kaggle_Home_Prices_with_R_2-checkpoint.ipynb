{
 "cells": [
  {
   "cell_type": "markdown",
   "metadata": {},
   "source": [
    "## *Learn Maching Learning* series on Kaggle in R\n",
    "\n",
    "This is my R code for the first two sections of the level 2 part of the *Learn Machine Learning* series on Kaggle. I've already done the Python one, which is on Kaggle located [here](https://www.kaggle.com/learn/machine-learning). The data used is from the [*Home Prices: Advanced Regression Techniques*](https://www.kaggle.com/c/house-prices-advanced-regression-techniques) competition.\n",
    "\n",
    "I had planned on doing all of level 2 but that was more difficult than I expected. One reason for that is the Python series told me what packages to use and gave me an outline of steps to follow. Since I'm doing this in R with no tutorial to follow, I had to research and decide which packages to use and steps to follow. That slowed me down but I definitely learned a lot. I also had problems with Jupyter and the R kernel, so I worked on this in RStudio while fixing those issues."
   ]
  },
  {
   "cell_type": "markdown",
   "metadata": {},
   "source": [
    "### Load and install packages and load the data\n",
    "I learned since the last time that I need to do an if-else statement, not just if, when checking for packages before loading them."
   ]
  },
  {
   "cell_type": "code",
   "execution_count": 1,
   "metadata": {},
   "outputs": [
    {
     "name": "stderr",
     "output_type": "stream",
     "text": [
      "Loading required package: randomForest\n",
      "randomForest 4.6-12\n",
      "Type rfNews() to see new features/changes/bug fixes.\n",
      "Loading required package: dplyr\n",
      "\n",
      "Attaching package: 'dplyr'\n",
      "\n",
      "The following object is masked from 'package:randomForest':\n",
      "\n",
      "    combine\n",
      "\n",
      "The following objects are masked from 'package:stats':\n",
      "\n",
      "    filter, lag\n",
      "\n",
      "The following objects are masked from 'package:base':\n",
      "\n",
      "    intersect, setdiff, setequal, union\n",
      "\n",
      "Loading required package: caTools\n",
      "Warning message in library(package, lib.loc = lib.loc, character.only = TRUE, logical.return = TRUE, :\n",
      "\"there is no package called 'caTools'\"Installing package into 'C:/Users/micha/R/win-library/3.4'\n",
      "(as 'lib' is unspecified)\n"
     ]
    },
    {
     "name": "stdout",
     "output_type": "stream",
     "text": [
      "package 'caTools' successfully unpacked and MD5 sums checked\n",
      "\n",
      "The downloaded binary packages are in\n",
      "\tC:\\Users\\micha\\AppData\\Local\\Temp\\RtmpauOUNi\\downloaded_packages\n"
     ]
    },
    {
     "name": "stderr",
     "output_type": "stream",
     "text": [
      "Warning message:\n",
      "\"package 'caTools' was built under R version 3.4.4\"Loading required package: rpart\n"
     ]
    }
   ],
   "source": [
    "# Install and load packages\n",
    "if (!require(\"randomForest\")) {\n",
    "  install.packages(\"randomForest\", repos=\"http://cran.rstudio.com/\")\n",
    "  library(randomForest)\n",
    "} else {\n",
    "  library(randomForest)\n",
    "}\n",
    "\n",
    "if (!require(\"dplyr\")) {\n",
    "  install.packages(\"dplyr\", repos=\"http://cran.rstudio.com/\")\n",
    "  library(dplyr)\n",
    "} else {\n",
    "  library(dplyr)\n",
    "}\n",
    "\n",
    "if (!require(\"caTools\")) {\n",
    "  install.packages(\"caTools\", repos=\"http://cran.rstudio.com/\")\n",
    "  library(caTools)\n",
    "} else {\n",
    "  library(caTools)\n",
    "}\n",
    "\n",
    "if (!require(\"rpart\")) {\n",
    "  install.packages(\"rpart\", repos=\"http://cran.rstudio.com/\")\n",
    "  library(rpart)\n",
    "} else {\n",
    "  library(rpart)\n",
    "}\n",
    "\n",
    "# Save filepath to variable\n",
    "training_data_filepath <- \"C:/Development/Kaggle/House Prices - Advanced Regression Techniques/train.csv\"\n",
    "\n",
    "# Import data\n",
    "dataset <- read.csv(training_data_filepath)"
   ]
  },
  {
   "cell_type": "code",
   "execution_count": null,
   "metadata": {},
   "outputs": [],
   "source": []
  }
 ],
 "metadata": {
  "front-matter": {
   "date": "2018-05-05",
   "slug": "home-prices-r2",
   "subtitle": "",
   "tags": [
    "R",
    "machine learning"
   ],
   "title": "My R code from two sections of the Level 2 exercises of Kaggle's Learn Machine Learning series"
  },
  "hugo-jupyter": {
   "render-to": "content/post/2018/04/29"
  },
  "kernelspec": {
   "display_name": "R",
   "language": "R",
   "name": "ir"
  },
  "language_info": {
   "codemirror_mode": "r",
   "file_extension": ".r",
   "mimetype": "text/x-r-source",
   "name": "R",
   "pygments_lexer": "r",
   "version": "3.4.3"
  }
 },
 "nbformat": 4,
 "nbformat_minor": 2
}
