{
 "cells": [
  {
   "cell_type": "markdown",
   "metadata": {},
   "source": [
    "## *Learn Maching Learning* series on Kaggle with R\n",
    "This is my R code for the *Learn Machine Learning* series on Kaggle. I've already done the Python one, which is on Kaggle located [here](https://www.kaggle.com/learn/machine-learning). The data used is from the [*Home Prices: Advanced Regression Techniques*](https://www.kaggle.com/c/house-prices-advanced-regression-techniques) competition.\n",
    "\n",
    "I'm going to run the completed code from level 1 first and then run each level 2 section."
   ]
  },
  {
   "cell_type": "code",
   "execution_count": 7,
   "metadata": {},
   "outputs": [],
   "source": [
    "# Install and import packages\n",
    "if (!require(\"randomForest\")) {\n",
    "    install.packages(\"randomForest\", repos=\"http://cran.rstudio.com/\")\n",
    "    library(randomForest)\n",
    "}\n",
    "\n",
    "# Save filepath to variable\n",
    "training_data_filepath <- \"C:/Development/Kaggle/House Prices - Advanced Regression Techniques/train.csv\"\n",
    "\n",
    "# Import data\n",
    "training_set <- read.csv(training_data_filepath)\n",
    "\n",
    "# Select the target variable and call it y\n",
    "y <- training_set$SalePrice"
   ]
  },
  {
   "cell_type": "code",
   "execution_count": null,
   "metadata": {},
   "outputs": [],
   "source": []
  }
 ],
 "metadata": {
  "front-matter": {
   "date": "2018-04-10",
   "slug": "home-prices-r",
   "subtitle": "",
   "title": "My code from Kaggle's Learn Maching Learning series using R"
  },
  "hugo-jupyter": {
   "render-to": "content/post/2018/04/08"
  },
  "kernelspec": {
   "display_name": "R",
   "language": "R",
   "name": "ir"
  },
  "language_info": {
   "codemirror_mode": "r",
   "file_extension": ".r",
   "mimetype": "text/x-r-source",
   "name": "R",
   "pygments_lexer": "r",
   "version": "3.4.3"
  }
 },
 "nbformat": 4,
 "nbformat_minor": 2
}
