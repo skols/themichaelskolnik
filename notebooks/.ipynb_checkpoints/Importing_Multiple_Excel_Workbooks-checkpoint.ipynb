{
 "cells": [
  {
   "cell_type": "markdown",
   "metadata": {},
   "source": [
    "## How I imported many Excel files into Python and then exported one text file\n",
    "\n",
    "At my previous job, some clients for my projects provided 90 to 100 Excel files that I needed to import into SQL Server or somewhere else. To do that I wanted to create one text file that could be imported into something else. I thought Python would be good for that and it was. Here's what I did."
   ]
  },
  {
   "cell_type": "code",
   "execution_count": 1,
   "metadata": {},
   "outputs": [],
   "source": [
    "# Imports\n",
    "import os\n",
    "import pandas as pd\n",
    "import glob"
   ]
  },
  {
   "cell_type": "code",
   "execution_count": null,
   "metadata": {},
   "outputs": [],
   "source": []
  }
 ],
 "metadata": {
  "front-matter": {
   "date": "2018-03-12",
   "slug": "excel-to-python-to-text",
   "subtitle": "How I imported many Excel files into Python and then exported one text file",
   "title": "Using Python to import multiple Excel files and export as one text file"
  },
  "hugo-jupyter": {
   "render-to": "content/post/2018/03/11/"
  },
  "kernelspec": {
   "display_name": "Python 3",
   "language": "python",
   "name": "python3"
  },
  "language_info": {
   "codemirror_mode": {
    "name": "ipython",
    "version": 3
   },
   "file_extension": ".py",
   "mimetype": "text/x-python",
   "name": "python",
   "nbconvert_exporter": "python",
   "pygments_lexer": "ipython3",
   "version": "3.6.4"
  }
 },
 "nbformat": 4,
 "nbformat_minor": 2
}
