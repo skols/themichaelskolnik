{
 "cells": [
  {
   "cell_type": "code",
   "execution_count": 1,
   "metadata": {},
   "outputs": [],
   "source": [
    "%matplotlib inline"
   ]
  },
  {
   "cell_type": "code",
   "execution_count": 57,
   "metadata": {},
   "outputs": [],
   "source": [
    "import matplotlib.pyplot as plt\n",
    "import seaborn as sns\n",
    "import pandas as pd\n",
    "import numpy as np"
   ]
  },
  {
   "cell_type": "code",
   "execution_count": 50,
   "metadata": {},
   "outputs": [],
   "source": [
    "CategoryField = [\"CategoryA\",\n",
    "            \"CategoryB\",\n",
    "            \"CategoryC\",\n",
    "            \"CategoryD\",\n",
    "            \"CategoryE\"]"
   ]
  },
  {
   "cell_type": "code",
   "execution_count": 58,
   "metadata": {},
   "outputs": [],
   "source": [
    "# from math import ceil\n",
    "# Field5 = [ceil(np.random.rand()*5000000),\n",
    "#           ceil(np.random.rand()*1000000),\n",
    "#           ceil(np.random.rand()*500000),\n",
    "#           ceil(np.random.rand()*10000),\n",
    "#           ceil(np.random.rand()*10000),\n",
    "#          ]\n",
    "# Field5"
   ]
  },
  {
   "cell_type": "code",
   "execution_count": 52,
   "metadata": {},
   "outputs": [],
   "source": [
    "Field1 = [99, 237, 1602, 6761, 22]"
   ]
  },
  {
   "cell_type": "code",
   "execution_count": 53,
   "metadata": {},
   "outputs": [],
   "source": [
    "Field2 = [7241, 112992, 235893, 5910760, 0]"
   ]
  },
  {
   "cell_type": "code",
   "execution_count": 54,
   "metadata": {},
   "outputs": [],
   "source": [
    "Field3 = [810957, 4058333, 11926494, 18876186, 0]"
   ]
  },
  {
   "cell_type": "code",
   "execution_count": 55,
   "metadata": {},
   "outputs": [],
   "source": [
    "Field4 = [1347, 20959, 111403, 809883, 0]"
   ]
  },
  {
   "cell_type": "code",
   "execution_count": 56,
   "metadata": {},
   "outputs": [],
   "source": [
    "Field5 = [4508887, 315049, 371894, 4235, 2766]"
   ]
  },
  {
   "cell_type": "markdown",
   "metadata": {},
   "source": [
    "Metadata change"
   ]
  },
  {
   "cell_type": "code",
   "execution_count": null,
   "metadata": {},
   "outputs": [],
   "source": []
  }
 ],
 "metadata": {
  "front-matter": {
   "date": "2018-03-08",
   "slug": "previous-python-chart",
   "subtitle": "Some data visualization examples in Python of what I had done in my most recent job",
   "title": "Data visualization in Python from my most recent job"
  },
  "hugo-jupyter": {
   "render-to": "content/post/2018/03/04/"
  },
  "kernelspec": {
   "display_name": "Python 3",
   "language": "python",
   "name": "python3"
  },
  "language_info": {
   "codemirror_mode": {
    "name": "ipython",
    "version": 3
   },
   "file_extension": ".py",
   "mimetype": "text/x-python",
   "name": "python",
   "nbconvert_exporter": "python",
   "pygments_lexer": "ipython3",
   "version": "3.6.4"
  }
 },
 "nbformat": 4,
 "nbformat_minor": 2
}
