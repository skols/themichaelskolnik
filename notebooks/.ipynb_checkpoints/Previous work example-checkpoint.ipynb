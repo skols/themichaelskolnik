{
 "cells": [
  {
   "cell_type": "code",
   "execution_count": 1,
   "metadata": {},
   "outputs": [],
   "source": [
    "%matplotlib inline"
   ]
  },
  {
   "cell_type": "code",
   "execution_count": 2,
   "metadata": {},
   "outputs": [],
   "source": [
    "import matplotlib.pyplot as plt\n",
    "import seaborn as sns\n",
    "import pandas as pd\n",
    "import numpy as np"
   ]
  },
  {
   "cell_type": "code",
   "execution_count": 3,
   "metadata": {},
   "outputs": [],
   "source": [
    "CategoryField = [\"CategoryA\",\n",
    "            \"CategoryB\",\n",
    "            \"CategoryC\",\n",
    "            \"CategoryD\",\n",
    "            \"CategoryE\"]"
   ]
  },
  {
   "cell_type": "code",
   "execution_count": 4,
   "metadata": {},
   "outputs": [],
   "source": [
    "# from math import ceil\n",
    "# Field5 = [ceil(np.random.rand()*5000000),\n",
    "#           ceil(np.random.rand()*1000000),\n",
    "#           ceil(np.random.rand()*500000),\n",
    "#           ceil(np.random.rand()*10000),\n",
    "#           ceil(np.random.rand()*10000),\n",
    "#          ]\n",
    "# Field5"
   ]
  },
  {
   "cell_type": "code",
   "execution_count": 5,
   "metadata": {},
   "outputs": [],
   "source": [
    "Field1 = [99, 237, 1602, 6761, 22]"
   ]
  },
  {
   "cell_type": "code",
   "execution_count": 6,
   "metadata": {},
   "outputs": [],
   "source": [
    "Field2 = [7241, 112992, 235893, 5910760, 0]"
   ]
  },
  {
   "cell_type": "code",
   "execution_count": 7,
   "metadata": {},
   "outputs": [],
   "source": [
    "Field3 = [810957, 4058333, 11926494, 18876186, 0]"
   ]
  },
  {
   "cell_type": "code",
   "execution_count": 8,
   "metadata": {},
   "outputs": [],
   "source": [
    "Field4 = [1347, 20959, 111403, 809883, 0]"
   ]
  },
  {
   "cell_type": "code",
   "execution_count": 9,
   "metadata": {},
   "outputs": [],
   "source": [
    "Field5 = [4508887, 315049, 371894, 4235, 2766]"
   ]
  },
  {
   "cell_type": "code",
   "execution_count": 10,
   "metadata": {},
   "outputs": [],
   "source": [
    "cols = [\"CategoryField\", \"Field1\", \"Field2\", \"Field3\", \"Field4\", \"Field5\"]"
   ]
  },
  {
   "cell_type": "code",
   "execution_count": 12,
   "metadata": {},
   "outputs": [],
   "source": [
    "df = pd.DataFrame(list(zip(CategoryField, Field1, Field2, Field3, Field4, Field5)),\n",
    "                 columns=cols)"
   ]
  },
  {
   "cell_type": "code",
   "execution_count": 13,
   "metadata": {},
   "outputs": [
    {
     "data": {
      "text/html": [
       "<div>\n",
       "<style scoped>\n",
       "    .dataframe tbody tr th:only-of-type {\n",
       "        vertical-align: middle;\n",
       "    }\n",
       "\n",
       "    .dataframe tbody tr th {\n",
       "        vertical-align: top;\n",
       "    }\n",
       "\n",
       "    .dataframe thead th {\n",
       "        text-align: right;\n",
       "    }\n",
       "</style>\n",
       "<table border=\"1\" class=\"dataframe\">\n",
       "  <thead>\n",
       "    <tr style=\"text-align: right;\">\n",
       "      <th></th>\n",
       "      <th>CategoryField</th>\n",
       "      <th>Field1</th>\n",
       "      <th>Field2</th>\n",
       "      <th>Field3</th>\n",
       "      <th>Field4</th>\n",
       "      <th>Field5</th>\n",
       "    </tr>\n",
       "  </thead>\n",
       "  <tbody>\n",
       "    <tr>\n",
       "      <th>0</th>\n",
       "      <td>CategoryA</td>\n",
       "      <td>99</td>\n",
       "      <td>7241</td>\n",
       "      <td>810957</td>\n",
       "      <td>1347</td>\n",
       "      <td>4508887</td>\n",
       "    </tr>\n",
       "    <tr>\n",
       "      <th>1</th>\n",
       "      <td>CategoryB</td>\n",
       "      <td>237</td>\n",
       "      <td>112992</td>\n",
       "      <td>4058333</td>\n",
       "      <td>20959</td>\n",
       "      <td>315049</td>\n",
       "    </tr>\n",
       "    <tr>\n",
       "      <th>2</th>\n",
       "      <td>CategoryC</td>\n",
       "      <td>1602</td>\n",
       "      <td>235893</td>\n",
       "      <td>11926494</td>\n",
       "      <td>111403</td>\n",
       "      <td>371894</td>\n",
       "    </tr>\n",
       "    <tr>\n",
       "      <th>3</th>\n",
       "      <td>CategoryD</td>\n",
       "      <td>6761</td>\n",
       "      <td>5910760</td>\n",
       "      <td>18876186</td>\n",
       "      <td>809883</td>\n",
       "      <td>4235</td>\n",
       "    </tr>\n",
       "    <tr>\n",
       "      <th>4</th>\n",
       "      <td>CategoryE</td>\n",
       "      <td>22</td>\n",
       "      <td>0</td>\n",
       "      <td>0</td>\n",
       "      <td>0</td>\n",
       "      <td>2766</td>\n",
       "    </tr>\n",
       "  </tbody>\n",
       "</table>\n",
       "</div>"
      ],
      "text/plain": [
       "  CategoryField  Field1   Field2    Field3  Field4   Field5\n",
       "0     CategoryA      99     7241    810957    1347  4508887\n",
       "1     CategoryB     237   112992   4058333   20959   315049\n",
       "2     CategoryC    1602   235893  11926494  111403   371894\n",
       "3     CategoryD    6761  5910760  18876186  809883     4235\n",
       "4     CategoryE      22        0         0       0     2766"
      ]
     },
     "execution_count": 13,
     "metadata": {},
     "output_type": "execute_result"
    }
   ],
   "source": [
    "df.head()"
   ]
  },
  {
   "cell_type": "code",
   "execution_count": null,
   "metadata": {},
   "outputs": [],
   "source": []
  }
 ],
 "metadata": {
  "front-matter": {
   "date": "2018-03-08",
   "slug": "previous-work-python-chart",
   "subtitle": "Some data visualization examples in Python of what I had done in my most recent job",
   "title": "Data visualization in Python from my most recent job"
  },
  "hugo-jupyter": {
   "render-to": "content/post/2018/03/04/"
  },
  "kernelspec": {
   "display_name": "Python 3",
   "language": "python",
   "name": "python3"
  },
  "language_info": {
   "codemirror_mode": {
    "name": "ipython",
    "version": 3
   },
   "file_extension": ".py",
   "mimetype": "text/x-python",
   "name": "python",
   "nbconvert_exporter": "python",
   "pygments_lexer": "ipython3",
   "version": "3.6.4"
  }
 },
 "nbformat": 4,
 "nbformat_minor": 2
}
