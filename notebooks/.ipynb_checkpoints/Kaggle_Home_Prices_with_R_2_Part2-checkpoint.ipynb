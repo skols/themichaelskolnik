{
 "cells": [
  {
   "cell_type": "markdown",
   "metadata": {},
   "source": [
    "## *Learn Maching Learning* series on Kaggle in R\n",
    "\n",
    "This is my R code for sections 3 and 4 of the level 2 part of the *Learn Machine Learning* series on Kaggle. I've already done the Python one, which is on Kaggle located [here](https://www.kaggle.com/learn/machine-learning). The data used is from the [*Home Prices: Advanced Regression Techniques*](https://www.kaggle.com/c/house-prices-advanced-regression-techniques) competition."
   ]
  },
  {
   "cell_type": "markdown",
   "metadata": {},
   "source": [
    "### Load and install packages and load the data"
   ]
  },
  {
   "cell_type": "code",
   "execution_count": 40,
   "metadata": {},
   "outputs": [],
   "source": [
    "# Install and load packages\n",
    "# For random forests and partial dependence plots\n",
    "if (!require(\"randomForest\")) {\n",
    "  install.packages(\"randomForest\", repos=\"http://cran.rstudio.com/\")\n",
    "  library(randomForest)\n",
    "} else {\n",
    "  library(randomForest)\n",
    "}\n",
    "\n",
    "if (!require(\"dplyr\")) {\n",
    "  install.packages(\"dplyr\", repos=\"http://cran.rstudio.com/\")\n",
    "  library(dplyr)\n",
    "} else {\n",
    "  library(dplyr)\n",
    "}\n",
    "\n",
    "if (!require(\"caTools\")) {\n",
    "  install.packages(\"caTools\", repos=\"http://cran.rstudio.com/\")\n",
    "  library(caTools)\n",
    "} else {\n",
    "  library(caTools)\n",
    "}\n",
    "\n",
    "if (!require(\"rpart\")) {\n",
    "  install.packages(\"rpart\", repos=\"http://cran.rstudio.com/\")\n",
    "  library(rpart)\n",
    "} else {\n",
    "  library(rpart)\n",
    "}\n",
    "\n",
    "if (!require(\"caret\")) {\n",
    "  install.packages(\"caret\", repos=\"http://cran.rstudio.com/\")\n",
    "  library(rpart)\n",
    "} else {\n",
    "  library(rpart)\n",
    "}\n",
    "\n",
    "# For XGBoost\n",
    "if (!require(\"xgboost\")) {\n",
    "  install.packages(\"xgboost\", repos=\"http://cran.rstudio.com/\")\n",
    "  library(xgboost)\n",
    "} else {\n",
    "  library(xgboost)\n",
    "}\n",
    "\n",
    "# Save filepath to variable\n",
    "training_data_filepath <- \"C:/Development/Kaggle/House Prices - Advanced Regression Techniques/train.csv\"\n",
    "\n",
    "# Import data\n",
    "dataset <- read.csv(training_data_filepath)"
   ]
  },
  {
   "cell_type": "markdown",
   "metadata": {},
   "source": [
    "### XGBoost\n",
    "\n",
    "I'm going to use XGBoost on the data, which requires some upfront work. The xgboost package is required to model with XGBoost."
   ]
  },
  {
   "cell_type": "code",
   "execution_count": 41,
   "metadata": {},
   "outputs": [
    {
     "name": "stdout",
     "output_type": "stream",
     "text": [
      "     |      Out-of-bag   |\n",
      "Tree |      MSE  %Var(y) |\n",
      " 300 | 8.414e+08    13.34 |\n",
      "     |      Out-of-bag   |\n",
      "Tree |      MSE  %Var(y) |\n",
      " 300 | 8.265e+08    13.10 |\n",
      "     |      Out-of-bag   |\n",
      "Tree |      MSE  %Var(y) |\n",
      " 300 | 8.571e+08    13.59 |\n",
      "     |      Out-of-bag   |\n",
      "Tree |      MSE  %Var(y) |\n",
      " 300 | 8.417e+08    13.35 |\n",
      "     |      Out-of-bag   |\n",
      "Tree |      MSE  %Var(y) |\n",
      " 300 | 8.877e+08    14.07 |\n"
     ]
    }
   ],
   "source": [
    "# Create the dataframe with only numeric predictors\n",
    "nums <- unlist(lapply(dataset, is.numeric))\n",
    "dataset_nums <- dataset[, nums]\n",
    "\n",
    "# Create the dataframe with only categorical predictors\n",
    "dataset_cat <- dataset[, !nums]\n",
    "\n",
    "# Use dummyVars from the caret package to perform one-hot encoding\n",
    "# on the categorical features\n",
    "dummies <- dummyVars( ~ ., data=dataset_cat)\n",
    "dataset_dummies <- as.data.frame(predict(dummies, newdata=dataset_cat))\n",
    "\n",
    "# Impute missing numeric data using rfImpute\n",
    "dataset_nums_impute <- rfImpute(SalePrice ~ ., dataset_nums)"
   ]
  },
  {
   "cell_type": "markdown",
   "metadata": {},
   "source": [
    "Combine the imputed and dummies datasets and view the top records"
   ]
  },
  {
   "cell_type": "code",
   "execution_count": 42,
   "metadata": {},
   "outputs": [
    {
     "data": {
      "text/html": [
       "<table>\n",
       "<thead><tr><th scope=col>SalePrice</th><th scope=col>Id</th><th scope=col>MSSubClass</th><th scope=col>LotFrontage</th><th scope=col>LotArea</th><th scope=col>OverallQual</th><th scope=col>OverallCond</th><th scope=col>YearBuilt</th><th scope=col>YearRemodAdd</th><th scope=col>MasVnrArea</th><th scope=col>...</th><th scope=col>SaleType.CWD</th><th scope=col>SaleType.New</th><th scope=col>SaleType.Oth</th><th scope=col>SaleType.WD</th><th scope=col>SaleCondition.Abnorml</th><th scope=col>SaleCondition.AdjLand</th><th scope=col>SaleCondition.Alloca</th><th scope=col>SaleCondition.Family</th><th scope=col>SaleCondition.Normal</th><th scope=col>SaleCondition.Partial</th></tr></thead>\n",
       "<tbody>\n",
       "\t<tr><td>208500</td><td>1     </td><td>60    </td><td>65    </td><td> 8450 </td><td>7     </td><td>5     </td><td>2003  </td><td>2003  </td><td>196   </td><td>...   </td><td>0     </td><td>0     </td><td>0     </td><td>1     </td><td>0     </td><td>0     </td><td>0     </td><td>0     </td><td>1     </td><td>0     </td></tr>\n",
       "\t<tr><td>181500</td><td>2     </td><td>20    </td><td>80    </td><td> 9600 </td><td>6     </td><td>8     </td><td>1976  </td><td>1976  </td><td>  0   </td><td>...   </td><td>0     </td><td>0     </td><td>0     </td><td>1     </td><td>0     </td><td>0     </td><td>0     </td><td>0     </td><td>1     </td><td>0     </td></tr>\n",
       "\t<tr><td>223500</td><td>3     </td><td>60    </td><td>68    </td><td>11250 </td><td>7     </td><td>5     </td><td>2001  </td><td>2002  </td><td>162   </td><td>...   </td><td>0     </td><td>0     </td><td>0     </td><td>1     </td><td>0     </td><td>0     </td><td>0     </td><td>0     </td><td>1     </td><td>0     </td></tr>\n",
       "\t<tr><td>140000</td><td>4     </td><td>70    </td><td>60    </td><td> 9550 </td><td>7     </td><td>5     </td><td>1915  </td><td>1970  </td><td>  0   </td><td>...   </td><td>0     </td><td>0     </td><td>0     </td><td>1     </td><td>1     </td><td>0     </td><td>0     </td><td>0     </td><td>0     </td><td>0     </td></tr>\n",
       "\t<tr><td>250000</td><td>5     </td><td>60    </td><td>84    </td><td>14260 </td><td>8     </td><td>5     </td><td>2000  </td><td>2000  </td><td>350   </td><td>...   </td><td>0     </td><td>0     </td><td>0     </td><td>1     </td><td>0     </td><td>0     </td><td>0     </td><td>0     </td><td>1     </td><td>0     </td></tr>\n",
       "\t<tr><td>143000</td><td>6     </td><td>50    </td><td>85    </td><td>14115 </td><td>5     </td><td>5     </td><td>1993  </td><td>1995  </td><td>  0   </td><td>...   </td><td>0     </td><td>0     </td><td>0     </td><td>1     </td><td>0     </td><td>0     </td><td>0     </td><td>0     </td><td>1     </td><td>0     </td></tr>\n",
       "</tbody>\n",
       "</table>\n"
      ],
      "text/latex": [
       "\\begin{tabular}{r|llllllllllllllllllllllllllllllllllllllllllllllllllllllllllllllllllllllllllllllllllllllllllllllllllllllllllllllllllllllllllllllllllllllllllllllllllllllllllllllllllllllllllllllllllllllllllllllllllllllllllllllllllllllllllllllllllllllllllllllllllllllllllllllllllllllllllllllllllllllllllllllllll}\n",
       " SalePrice & Id & MSSubClass & LotFrontage & LotArea & OverallQual & OverallCond & YearBuilt & YearRemodAdd & MasVnrArea & ... & SaleType.CWD & SaleType.New & SaleType.Oth & SaleType.WD & SaleCondition.Abnorml & SaleCondition.AdjLand & SaleCondition.Alloca & SaleCondition.Family & SaleCondition.Normal & SaleCondition.Partial\\\\\n",
       "\\hline\n",
       "\t 208500 & 1      & 60     & 65     &  8450  & 7      & 5      & 2003   & 2003   & 196    & ...    & 0      & 0      & 0      & 1      & 0      & 0      & 0      & 0      & 1      & 0     \\\\\n",
       "\t 181500 & 2      & 20     & 80     &  9600  & 6      & 8      & 1976   & 1976   &   0    & ...    & 0      & 0      & 0      & 1      & 0      & 0      & 0      & 0      & 1      & 0     \\\\\n",
       "\t 223500 & 3      & 60     & 68     & 11250  & 7      & 5      & 2001   & 2002   & 162    & ...    & 0      & 0      & 0      & 1      & 0      & 0      & 0      & 0      & 1      & 0     \\\\\n",
       "\t 140000 & 4      & 70     & 60     &  9550  & 7      & 5      & 1915   & 1970   &   0    & ...    & 0      & 0      & 0      & 1      & 1      & 0      & 0      & 0      & 0      & 0     \\\\\n",
       "\t 250000 & 5      & 60     & 84     & 14260  & 8      & 5      & 2000   & 2000   & 350    & ...    & 0      & 0      & 0      & 1      & 0      & 0      & 0      & 0      & 1      & 0     \\\\\n",
       "\t 143000 & 6      & 50     & 85     & 14115  & 5      & 5      & 1993   & 1995   &   0    & ...    & 0      & 0      & 0      & 1      & 0      & 0      & 0      & 0      & 1      & 0     \\\\\n",
       "\\end{tabular}\n"
      ],
      "text/markdown": [
       "\n",
       "SalePrice | Id | MSSubClass | LotFrontage | LotArea | OverallQual | OverallCond | YearBuilt | YearRemodAdd | MasVnrArea | ... | SaleType.CWD | SaleType.New | SaleType.Oth | SaleType.WD | SaleCondition.Abnorml | SaleCondition.AdjLand | SaleCondition.Alloca | SaleCondition.Family | SaleCondition.Normal | SaleCondition.Partial | \n",
       "|---|---|---|---|---|---|\n",
       "| 208500 | 1      | 60     | 65     |  8450  | 7      | 5      | 2003   | 2003   | 196    | ...    | 0      | 0      | 0      | 1      | 0      | 0      | 0      | 0      | 1      | 0      | \n",
       "| 181500 | 2      | 20     | 80     |  9600  | 6      | 8      | 1976   | 1976   |   0    | ...    | 0      | 0      | 0      | 1      | 0      | 0      | 0      | 0      | 1      | 0      | \n",
       "| 223500 | 3      | 60     | 68     | 11250  | 7      | 5      | 2001   | 2002   | 162    | ...    | 0      | 0      | 0      | 1      | 0      | 0      | 0      | 0      | 1      | 0      | \n",
       "| 140000 | 4      | 70     | 60     |  9550  | 7      | 5      | 1915   | 1970   |   0    | ...    | 0      | 0      | 0      | 1      | 1      | 0      | 0      | 0      | 0      | 0      | \n",
       "| 250000 | 5      | 60     | 84     | 14260  | 8      | 5      | 2000   | 2000   | 350    | ...    | 0      | 0      | 0      | 1      | 0      | 0      | 0      | 0      | 1      | 0      | \n",
       "| 143000 | 6      | 50     | 85     | 14115  | 5      | 5      | 1993   | 1995   |   0    | ...    | 0      | 0      | 0      | 1      | 0      | 0      | 0      | 0      | 1      | 0      | \n",
       "\n",
       "\n"
      ],
      "text/plain": [
       "  SalePrice Id MSSubClass LotFrontage LotArea OverallQual OverallCond YearBuilt\n",
       "1 208500    1  60         65           8450   7           5           2003     \n",
       "2 181500    2  20         80           9600   6           8           1976     \n",
       "3 223500    3  60         68          11250   7           5           2001     \n",
       "4 140000    4  70         60           9550   7           5           1915     \n",
       "5 250000    5  60         84          14260   8           5           2000     \n",
       "6 143000    6  50         85          14115   5           5           1993     \n",
       "  YearRemodAdd MasVnrArea ... SaleType.CWD SaleType.New SaleType.Oth\n",
       "1 2003         196        ... 0            0            0           \n",
       "2 1976           0        ... 0            0            0           \n",
       "3 2002         162        ... 0            0            0           \n",
       "4 1970           0        ... 0            0            0           \n",
       "5 2000         350        ... 0            0            0           \n",
       "6 1995           0        ... 0            0            0           \n",
       "  SaleType.WD SaleCondition.Abnorml SaleCondition.AdjLand SaleCondition.Alloca\n",
       "1 1           0                     0                     0                   \n",
       "2 1           0                     0                     0                   \n",
       "3 1           0                     0                     0                   \n",
       "4 1           1                     0                     0                   \n",
       "5 1           0                     0                     0                   \n",
       "6 1           0                     0                     0                   \n",
       "  SaleCondition.Family SaleCondition.Normal SaleCondition.Partial\n",
       "1 0                    1                    0                    \n",
       "2 0                    1                    0                    \n",
       "3 0                    1                    0                    \n",
       "4 0                    0                    0                    \n",
       "5 0                    1                    0                    \n",
       "6 0                    1                    0                    "
      ]
     },
     "metadata": {},
     "output_type": "display_data"
    }
   ],
   "source": [
    "dataset_combined <- cbind(dataset_nums_impute, dataset_dummies)\n",
    "head(dataset_combined)"
   ]
  },
  {
   "cell_type": "markdown",
   "metadata": {},
   "source": [
    "#### Split the data set into training and test\n",
    "\n",
    "This is simliar to before, using dataset_combined instead of dataset."
   ]
  },
  {
   "cell_type": "code",
   "execution_count": 43,
   "metadata": {},
   "outputs": [],
   "source": [
    "# Split data into training and validation data, for both predictors and target.\n",
    "set.seed(42)\n",
    "split <- sample.split(dataset_combined, SplitRatio=0.7)  # for training data\n",
    "training_set <- subset(dataset_combined, split==TRUE)\n",
    "test_set <- subset(dataset_combined, split==FALSE)"
   ]
  },
  {
   "cell_type": "code",
   "execution_count": 44,
   "metadata": {},
   "outputs": [],
   "source": [
    "# Create X and y from the training and test sets\n",
    "X_train <- training_set %>%\n",
    "    select(-c(Id, SalePrice))\n",
    "X_test <- test_set %>%\n",
    "    select(-c(Id, SalePrice))\n",
    "y_train <- training_set$SalePrice\n",
    "y_test <- test_set$SalePrice"
   ]
  },
  {
   "cell_type": "markdown",
   "metadata": {},
   "source": [
    "#### Create the XGBoost model and predict values"
   ]
  },
  {
   "cell_type": "code",
   "execution_count": 45,
   "metadata": {},
   "outputs": [],
   "source": [
    "xgb <- xgboost(data.matrix(X_train), y_train, nrounds=25, verbose=0)\n",
    "y_pred <- predict(xgb, data.matrix(X_test))"
   ]
  },
  {
   "cell_type": "code",
   "execution_count": 46,
   "metadata": {},
   "outputs": [
    {
     "data": {
      "text/html": [
       "19779.9675398633"
      ],
      "text/latex": [
       "19779.9675398633"
      ],
      "text/markdown": [
       "19779.9675398633"
      ],
      "text/plain": [
       "[1] 19779.97"
      ]
     },
     "metadata": {},
     "output_type": "display_data"
    }
   ],
   "source": [
    "# Create an MAE function to get the Mean Absolute Error\n",
    "mae <- function(error)\n",
    "{\n",
    "  mean(abs(error))\n",
    "}\n",
    "\n",
    "error <- y_pred - y_test\n",
    "\n",
    "mae(error)"
   ]
  },
  {
   "cell_type": "code",
   "execution_count": 47,
   "metadata": {},
   "outputs": [
    {
     "name": "stdout",
     "output_type": "stream",
     "text": [
      "[1] \"nround of 1 has an MAE of 136694.404586062\"\n",
      "[1] \"nround of 5 has an MAE of 39075.4283438924\"\n",
      "[1] \"nround of 10 has an MAE of 21415.4554207005\"\n",
      "[1] \"nround of 30 has an MAE of 19772.0597238041\"\n",
      "[1] \"nround of 50 has an MAE of 19694.1839763667\"\n",
      "[1] \"nround of 100 has an MAE of 19637.0124928815\"\n",
      "[1] \"nround of 500 has an MAE of 19621.2550363041\"\n",
      "[1] \"nround of 1000 has an MAE of 19621.2714977221\"\n",
      "[1] \"nround of 5000 has an MAE of 19621.4138667426\"\n"
     ]
    }
   ],
   "source": [
    "# Create a function to get the MAE of XGBoost nround values\n",
    "getMae_xgb <- function(X_train, y_train, X_test, y_test, n) {\n",
    "  set.seed(42)\n",
    "  xgb <- xgboost(data.matrix(X_train), y_train, nrounds=n, verbose=0)\n",
    "  y_pred <- predict(xgb, data.matrix(X_test))\n",
    "  error <- (y_pred - y_test)\n",
    "  print(paste(\"nround of \", n, \" has an MAE of \", mae(error), sep=\"\"))\n",
    "}\n",
    "\n",
    "# Loop through multiple nround values\n",
    "nrounds = c(1, 5, 10, 30, 50, 100, 500, 1000, 5000)\n",
    "\n",
    "for (i in nrounds) {\n",
    "  getMae_xgb(X_train, y_train, X_test, y_test, i)\n",
    "}"
   ]
  },
  {
   "cell_type": "markdown",
   "metadata": {},
   "source": [
    "nround of 500 has the lowest MAE but it isn't much better than 100 and even 50. These different nround values take some time to run and the higher values don't seem to make much of a difference with this dataset. There are other parameters I can tune and may try at a later date and those could make more of a difference than the higher nround values."
   ]
  },
  {
   "cell_type": "markdown",
   "metadata": {},
   "source": [
    "### Partial Dependence Plots\n",
    "\n",
    "Partial Dependence Plots in R can be done using partialPlot function available in the randomForest package."
   ]
  },
  {
   "cell_type": "markdown",
   "metadata": {},
   "source": [
    "#### Prepare and model the data"
   ]
  },
  {
   "cell_type": "code",
   "execution_count": 48,
   "metadata": {},
   "outputs": [],
   "source": [
    "# Split data into training and validation data, for both predictors and target.\n",
    "set.seed(42)\n",
    "split <- sample.split(dataset, SplitRatio=0.7)  # for training data\n",
    "training_set <- subset(dataset, split==TRUE)\n",
    "test_set <- subset(dataset, split==FALSE)\n",
    "\n",
    "# Create the training and tests dataframe with only a few selected predicted variables\n",
    "predictors <- c(\"LotArea\", \"YearBuilt\", \"TotRmsAbvGrd\", \"SalePrice\")\n",
    "training_set_preds <- training_set[, predictors]\n",
    "test_set_preds <- test_set[, predictors]\n",
    "\n",
    "# Create the predictor variable\n",
    "X <- subset(training_set_preds, select = -SalePrice)\n",
    "\n",
    "# Select the target variable and call it y\n",
    "y <- training_set_preds$SalePrice\n",
    "\n",
    "# Fit Random Forest regression to the dataset and predict a new result\n",
    "regressor <- randomForest(x=X, y=y, ntree=500)\n",
    "y_prediction <- predict(regressor, newdata=subset(test_set_preds, select = -SalePrice))"
   ]
  },
  {
   "cell_type": "markdown",
   "metadata": {},
   "source": [
    "#### Create the Partial Dependence Plots"
   ]
  },
  {
   "cell_type": "code",
   "execution_count": 49,
   "metadata": {},
   "outputs": [
    {
     "data": {
      "image/png": "[encoded data removed]",
      "text/plain": [
       "Plot with title \"Partial Dependence on LotArea\""
      ]
     },
     "metadata": {},
     "output_type": "display_data"
    }
   ],
   "source": [
    "# Partial Dependence Plot with LotArea\n",
    "partialPlot(regressor, X, LotArea)"
   ]
  },
  {
   "cell_type": "code",
   "execution_count": 50,
   "metadata": {},
   "outputs": [
    {
     "data": {
      "image/png": "[encoded data removed]",
      "text/plain": [
       "Plot with title \"Partial Dependence on YearBuilt\""
      ]
     },
     "metadata": {},
     "output_type": "display_data"
    }
   ],
   "source": [
    "# Partial Dependence Plot with YearBuilt\n",
    "partialPlot(regressor, X, YearBuilt)"
   ]
  },
  {
   "cell_type": "code",
   "execution_count": 51,
   "metadata": {},
   "outputs": [
    {
     "data": {
      "image/png": "[encoded data removed]",
      "text/plain": [
       "Plot with title \"Partial Dependence on TotRmsAbvGrd\""
      ]
     },
     "metadata": {},
     "output_type": "display_data"
    }
   ],
   "source": [
    "# Partial Dependence Plot with TotRmsAbvGrd\n",
    "partialPlot(regressor, X, TotRmsAbvGrd)"
   ]
  },
  {
   "cell_type": "markdown",
   "metadata": {},
   "source": [
    "SalePrice generally increases as LotArea, YearBuilt, and TotRmsAbvGrd increase, though there is a leveling off between 8 to 10 rooms above ground."
   ]
  },
  {
   "cell_type": "markdown",
   "metadata": {},
   "source": [
    "### Next steps\n",
    "\n",
    "I'm going to work on the next few sections. I still have Cross Validation, Data Leakage, and Pipelines yet to figure out and then code. I'm not sure yet how to do those so I'll keep researching and learning!"
   ]
  }
 ],
 "metadata": {
  "front-matter": {
   "date": "2018-06-04",
   "slug": "home-prices-r3",
   "subtitle": "",
   "tags": [
    "R",
    "machine learning"
   ],
   "title": "My R code from sections 3 and 4 of the Level 2 exercises of Kaggle's Learn Machine Learning series"
  },
  "hugo-jupyter": {
   "render-to": "content/post/2018/06/03"
  },
  "kernelspec": {
   "display_name": "R",
   "language": "R",
   "name": "ir"
  },
  "language_info": {
   "codemirror_mode": "r",
   "file_extension": ".r",
   "mimetype": "text/x-r-source",
   "name": "R",
   "pygments_lexer": "r",
   "version": "3.4.3"
  }
 },
 "nbformat": 4,
 "nbformat_minor": 2
}
